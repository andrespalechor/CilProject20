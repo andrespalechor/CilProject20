{
 "cells": [
  {
   "cell_type": "markdown",
   "metadata": {},
   "source": [
    "# Running image segmentation on the CIL project\n",
    "## Link\n",
    "https://www.kaggle.com/c/cil-road-segmentation-2020/data"
   ]
  },
  {
   "cell_type": "markdown",
   "metadata": {},
   "source": [
    "## Initialization"
   ]
  },
  {
   "cell_type": "code",
   "execution_count": null,
   "metadata": {},
   "outputs": [],
   "source": [
    "import tensorflow as tf\n",
    "from tensorflow_examples.models.pix2pix import pix2pix\n",
    "\n",
    "import pathlib\n",
    "\n",
    "from IPython.display import clear_output\n",
    "\n",
    "import matplotlib.pyplot as plt\n",
    "%matplotlib inline"
   ]
  },
  {
   "cell_type": "code",
   "execution_count": null,
   "metadata": {},
   "outputs": [],
   "source": [
    "#Network parameters\n",
    "TRAINING_WIDTH = 400\n",
    "TRAINING_HEIGHT = 400\n",
    "NETWORK_WIDTH = 320\n",
    "NETWORK_HEIGHT = 320\n",
    "TESTDATA_WIDTH = 608\n",
    "TESTDATA_HEIGHT = 608\n",
    "OUTPUT_CHANNELS = 2"
   ]
  },
  {
   "cell_type": "markdown",
   "metadata": {},
   "source": [
    "## Dataset load and prepare"
   ]
  },
  {
   "cell_type": "code",
   "execution_count": null,
   "metadata": {},
   "outputs": [],
   "source": [
    "#Not to run everytime\n",
    "#Zip neeeds to be in the jupyter folder\n",
    "!rm -rf data\n",
    "!mkdir data\n",
    "!unzip -q cil-road-segmentation-2020.zip -d data"
   ]
  },
  {
   "cell_type": "markdown",
   "metadata": {},
   "source": [
    "### Import data in TF format"
   ]
  },
  {
   "cell_type": "code",
   "execution_count": null,
   "metadata": {},
   "outputs": [],
   "source": [
    "data_dir = pathlib.Path('.', 'data', 'training', 'training').resolve()\n",
    "list_ds = tf.data.Dataset.list_files(str(data_dir/'images/*'))"
   ]
  },
  {
   "cell_type": "code",
   "execution_count": null,
   "metadata": {},
   "outputs": [],
   "source": [
    "def read_image(file_path):\n",
    "    img = tf.io.read_file(file_path)\n",
    "    img = tf.image.decode_png(img, channels = 3)\n",
    "    img = tf.image.resize(img, (TRAINING_WIDTH, TRAINING_HEIGHT))\n",
    "    img = tf.image.convert_image_dtype(img, tf.float32) # Cast and normalize the image to [0,1]\n",
    "    img = tf.image.per_image_standardization(img)\n",
    "    return img\n",
    "\n",
    "def read_mask(file_path):\n",
    "    img = tf.io.read_file(file_path)\n",
    "    img = tf.image.decode_png(img, channels = 1)\n",
    "    img = tf.image.resize(img, (TRAINING_WIDTH, TRAINING_HEIGHT))\n",
    "    img = tf.round(tf.cast(img, tf.float32) / 255.0)\n",
    "    return img\n",
    "\n",
    "def process_path(file_path):\n",
    "    img = read_image(file_path)\n",
    "    maskPath = tf.strings.regex_replace(file_path, 'images', 'groundtruth')\n",
    "    mask = read_mask(maskPath)\n",
    "    #tf.print(file_path)\n",
    "    #tf.print(maskPath)\n",
    "    return img, mask"
   ]
  },
  {
   "cell_type": "code",
   "execution_count": null,
   "metadata": {},
   "outputs": [],
   "source": [
    "def crop(img, mask, x, y, width, height):\n",
    "    img_small = tf.image.crop_to_bounding_box(img, x, y, width, height)\n",
    "    mask_small = tf.image.crop_to_bounding_box(mask, x, y, width, height)\n",
    "    return img_small, mask_small\n",
    "def croptopleft(img, mask):\n",
    "    return crop(img, mask, 0, 0, NETWORK_WIDTH, NETWORK_HEIGHT)\n",
    "def croptopright(img, mask):\n",
    "    return crop(img, mask, TRAINING_WIDTH - NETWORK_WIDTH, 0, NETWORK_WIDTH, NETWORK_HEIGHT)\n",
    "def cropbotleft(img, mask):\n",
    "    return crop(img, mask, 0, TRAINING_HEIGHT - NETWORK_HEIGHT, NETWORK_WIDTH, NETWORK_HEIGHT)\n",
    "def cropbotright(img, mask):\n",
    "    return crop(img, mask, TRAINING_WIDTH - NETWORK_WIDTH, TRAINING_HEIGHT - NETWORK_HEIGHT, NETWORK_WIDTH, NETWORK_HEIGHT)\n",
    "def get_cropped_imgs(dataSet):\n",
    "    outset = dataSet.map(croptopleft)\n",
    "    outset = outset.concatenate(dataSet.map(croptopright))\n",
    "    outset = outset.concatenate(dataSet.map(cropbotleft))\n",
    "    outset = outset.concatenate(dataSet.map(cropbotright))\n",
    "    return outset"
   ]
  },
  {
   "cell_type": "code",
   "execution_count": null,
   "metadata": {},
   "outputs": [],
   "source": [
    "def leftright(img, mask):\n",
    "    img = tf.image.flip_left_right(img)\n",
    "    mask = tf.image.flip_left_right(mask)\n",
    "    return img, mask\n",
    "def rot90(img, mask):\n",
    "    img = tf.image.rot90(img)\n",
    "    mask = tf.image.rot90(mask)\n",
    "    return img, mask\n",
    "def rot180(img, mask):\n",
    "    img = tf.image.rot90(img, k=2)\n",
    "    mask = tf.image.rot90(mask, k=2)\n",
    "    return img, mask\n",
    "def rot270(img, mask):\n",
    "    img = tf.image.rot90(img, k=3)\n",
    "    mask = tf.image.rot90(mask, k=3)\n",
    "    return img, mask\n",
    "def random_characteristics(img, mask):\n",
    "    img = tf.image.random_brightness(img, max_delta=0.5)\n",
    "    img = tf.image.random_contrast(img, 0.8, 1.3)\n",
    "    img = tf.image.random_saturation(img, 0.8, 1.3)\n",
    "    return img, mask\n",
    "\n",
    "def extendDataSet(dataset):\n",
    "    outset = dataset.map(leftright)\n",
    "    outset = outset.concatenate(dataset.map(rot90))\n",
    "    outset = outset.concatenate(dataset.map(rot90).map(leftright))\n",
    "    outset = outset.concatenate(dataset.map(rot180))\n",
    "    outset = outset.concatenate(dataset.map(rot180).map(leftright))\n",
    "    outset = outset.concatenate(dataset.map(rot270))\n",
    "    outset = outset.concatenate(dataset.map(rot270).map(leftright))\n",
    "    \n",
    "    outset = outset.map(random_characteristics)\n",
    "    return outset"
   ]
  },
  {
   "cell_type": "code",
   "execution_count": null,
   "metadata": {},
   "outputs": [],
   "source": [
    "whole_ds = list_ds.map(process_path)\n",
    "whole_ds_cropped = get_cropped_imgs(whole_ds)\n",
    "\n",
    "ds_size = len(list(whole_ds_cropped))\n",
    "valid_count = int(ds_size*0.1)\n",
    "valid_ds = whole_ds_cropped.take(valid_count)\n",
    "train_ds = whole_ds_cropped.skip(valid_count)\n",
    "train_ds = train_ds.concatenate(extendDataSet(train_ds))\n",
    "\n",
    "TRAIN_LENGTH = len(list(train_ds))\n",
    "BATCH_SIZE = 20\n",
    "BUFFER_SIZE = 1000\n",
    "STEPS_PER_EPOCH = TRAIN_LENGTH // BATCH_SIZE // 4\n",
    "\n",
    "#The datasets to train the model with. Copied from the example. Doesn't work without these operations\n",
    "train_dataset = train_ds.cache().shuffle(BUFFER_SIZE).batch(BATCH_SIZE).repeat()\n",
    "train_dataset = train_dataset.prefetch(buffer_size=tf.data.experimental.AUTOTUNE)\n",
    "valid_dataset = valid_ds.batch(BATCH_SIZE)"
   ]
  },
  {
   "cell_type": "code",
   "execution_count": null,
   "metadata": {},
   "outputs": [],
   "source": [
    "len(list(train_ds))"
   ]
  },
  {
   "cell_type": "markdown",
   "metadata": {},
   "source": [
    "### Have a look at an example datapoint"
   ]
  },
  {
   "cell_type": "code",
   "execution_count": null,
   "metadata": {},
   "outputs": [],
   "source": [
    "def display(display_list):\n",
    "    plt.figure(figsize=(15, 15))\n",
    "    title = ['Input Image', 'True Mask', 'Predicted Mask']\n",
    "\n",
    "    for i in range(len(display_list)):\n",
    "        plt.subplot(1, len(display_list), i+1)\n",
    "        plt.title(title[i])\n",
    "        plt.imshow(tf.keras.preprocessing.image.array_to_img(display_list[i]))\n",
    "        plt.axis('off')\n",
    "    plt.show()\n",
    "\n",
    "#Change take parameter to display a different datapoint\n",
    "for image, mask in whole_ds_cropped.take(1):\n",
    "    sample_image, sample_mask = image, mask\n",
    "display([sample_image, sample_mask])"
   ]
  },
  {
   "cell_type": "markdown",
   "metadata": {},
   "source": [
    "## Define the model"
   ]
  },
  {
   "cell_type": "markdown",
   "metadata": {},
   "source": [
    "To accommodate for the training data picture size of 400x400 I modified the network from the example.\n",
    "Instead of 5 reductions, only 4 are used, because the last reduction would reduce the dimensions from 25x25 to 13x13 which cannot be upsampled afterwards. I wonder if that's the right solution, given that the test dataset then has a picture size of 400x400"
   ]
  },
  {
   "cell_type": "markdown",
   "metadata": {},
   "source": [
    "### Downsampling"
   ]
  },
  {
   "cell_type": "code",
   "execution_count": null,
   "metadata": {},
   "outputs": [],
   "source": [
    "base_model = tf.keras.applications.MobileNetV2(input_shape=[NETWORK_WIDTH, NETWORK_HEIGHT, 3], include_top=False)\n",
    "\n",
    "# Use the activations of these layers\n",
    "layer_names = [\n",
    "    'block_1_expand_relu',   # 64x64\n",
    "    'block_3_expand_relu',   # 32x32\n",
    "    'block_6_expand_relu',   # 16x16\n",
    "    'block_13_expand_relu',  # 8x8\n",
    "    'block_16_project',      # 4x4\n",
    "]\n",
    "layers = [base_model.get_layer(name).output for name in layer_names]\n",
    "\n",
    "# Create the feature extraction model\n",
    "down_stack = tf.keras.Model(inputs=base_model.input, outputs=layers)\n",
    "\n",
    "down_stack.trainable = False"
   ]
  },
  {
   "cell_type": "markdown",
   "metadata": {},
   "source": [
    "### Upsampling"
   ]
  },
  {
   "cell_type": "code",
   "execution_count": null,
   "metadata": {},
   "outputs": [],
   "source": [
    "up_stack = [\n",
    "    pix2pix.upsample(512, 3),  # 4x4 -> 8x8\n",
    "    pix2pix.upsample(256, 3),  # 8x8 -> 16x16\n",
    "    pix2pix.upsample(128, 3),  # 16x16 -> 32x32\n",
    "    pix2pix.upsample(64, 3),   # 32x32 -> 64x64\n",
    "]"
   ]
  },
  {
   "cell_type": "markdown",
   "metadata": {},
   "source": [
    "### Assemble the model"
   ]
  },
  {
   "cell_type": "code",
   "execution_count": null,
   "metadata": {},
   "outputs": [],
   "source": [
    "def unet_model(output_channels):\n",
    "  inputs = tf.keras.layers.Input(shape=[NETWORK_WIDTH, NETWORK_HEIGHT, 3])\n",
    "  x = inputs\n",
    "\n",
    "  # Downsampling through the model\n",
    "  skips = down_stack(x)\n",
    "  x = skips[-1]\n",
    "  skips = reversed(skips[:-1])\n",
    "\n",
    "  # Upsampling and establishing the skip connections\n",
    "  for up, skip in zip(up_stack, skips):\n",
    "    x = up(x)\n",
    "    concat = tf.keras.layers.Concatenate()\n",
    "    x = concat([x, skip])\n",
    "\n",
    "  # This is the last layer of the model\n",
    "  last = tf.keras.layers.Conv2DTranspose(\n",
    "      output_channels, 3, strides=2,\n",
    "      padding='same')  #64x64 -> 128x128\n",
    "\n",
    "  x = last(x)\n",
    "\n",
    "  return tf.keras.Model(inputs=inputs, outputs=x)\n",
    "\n",
    "model = unet_model(OUTPUT_CHANNELS)\n",
    "model.compile(optimizer='adam',\n",
    "              loss=tf.keras.losses.SparseCategoricalCrossentropy(from_logits=True),\n",
    "              metrics=['accuracy'])"
   ]
  },
  {
   "cell_type": "markdown",
   "metadata": {},
   "source": [
    "### Have a look at it"
   ]
  },
  {
   "cell_type": "code",
   "execution_count": null,
   "metadata": {},
   "outputs": [],
   "source": [
    "tf.keras.utils.plot_model(model, show_shapes=True)"
   ]
  },
  {
   "cell_type": "code",
   "execution_count": null,
   "metadata": {},
   "outputs": [],
   "source": [
    "def create_mask(pred_mask):\n",
    "  pred_mask = tf.argmax(pred_mask, axis=-1)\n",
    "  pred_mask = pred_mask[..., tf.newaxis]\n",
    "  return pred_mask[0]\n",
    "\n",
    "def show_predictions(dataset=None, num=1):\n",
    "  if dataset:\n",
    "    for image, mask in dataset.take(num):\n",
    "      pred_mask = model.predict(image)\n",
    "      display([image[0], mask[0], create_mask(pred_mask)])\n",
    "  else:\n",
    "    display([sample_image, sample_mask,\n",
    "             create_mask(model.predict(sample_image[tf.newaxis, ...]))])\n",
    "    \n",
    "#Displays the predicted mask for the sample_image taken above, with random network parameters\n",
    "show_predictions()"
   ]
  },
  {
   "cell_type": "markdown",
   "metadata": {},
   "source": [
    "### Train the model"
   ]
  },
  {
   "cell_type": "code",
   "execution_count": null,
   "metadata": {},
   "outputs": [],
   "source": [
    "class DisplayCallback(tf.keras.callbacks.Callback):\n",
    "  def on_epoch_end(self, epoch, logs=None):\n",
    "    clear_output(wait=True)\n",
    "    show_predictions()\n",
    "    print ('\\nSample Prediction after epoch {}\\n'.format(epoch+1))\n",
    "    \n",
    "EPOCHS = 80\n",
    "\n",
    "model_history = model.fit(train_dataset, epochs=EPOCHS,\n",
    "                          steps_per_epoch=STEPS_PER_EPOCH,\n",
    "                          validation_data=valid_dataset,\n",
    "                          callbacks=[DisplayCallback()])"
   ]
  },
  {
   "cell_type": "markdown",
   "metadata": {},
   "source": [
    "### Have a look at the losses"
   ]
  },
  {
   "cell_type": "code",
   "execution_count": null,
   "metadata": {},
   "outputs": [],
   "source": [
    "loss = model_history.history['loss']\n",
    "val_loss = model_history.history['val_loss']\n",
    "\n",
    "epochs = range(EPOCHS)\n",
    "\n",
    "plt.figure()\n",
    "plt.plot(epochs, loss, 'r', label='Training loss')\n",
    "plt.plot(epochs, val_loss, 'bo', label='Validation loss')\n",
    "plt.title('Training and Validation Loss')\n",
    "plt.xlabel('Epoch')\n",
    "plt.ylabel('Loss Value')\n",
    "plt.ylim([0, 1])\n",
    "plt.legend()\n",
    "plt.show()"
   ]
  },
  {
   "cell_type": "markdown",
   "metadata": {},
   "source": [
    "## Look at a prediction for the validation dataset"
   ]
  },
  {
   "cell_type": "code",
   "execution_count": null,
   "metadata": {},
   "outputs": [],
   "source": [
    "#Change number to look at a different datapoint\n",
    "show_predictions(valid_dataset, 2)"
   ]
  },
  {
   "cell_type": "markdown",
   "metadata": {},
   "source": [
    "## Evaluate and Save"
   ]
  },
  {
   "cell_type": "code",
   "execution_count": null,
   "metadata": {},
   "outputs": [],
   "source": [
    "model.summary()"
   ]
  },
  {
   "cell_type": "code",
   "execution_count": null,
   "metadata": {},
   "outputs": [],
   "source": [
    "!mkdir -p checkpoints\n",
    "model.save_weights(\"checkpoints/improved_unet_01.ckpt\")"
   ]
  },
  {
   "cell_type": "markdown",
   "metadata": {},
   "source": [
    "## Perform inference on actual test data\n",
    "### Load & check model"
   ]
  },
  {
   "cell_type": "code",
   "execution_count": null,
   "metadata": {},
   "outputs": [],
   "source": [
    "latest = tf.train.latest_checkpoint(\"checkpoints\")\n",
    "latest"
   ]
  },
  {
   "cell_type": "code",
   "execution_count": null,
   "metadata": {},
   "outputs": [],
   "source": [
    "model.load_weights(latest)"
   ]
  },
  {
   "cell_type": "code",
   "execution_count": null,
   "metadata": {},
   "outputs": [],
   "source": [
    "show_predictions(valid_dataset, 2)"
   ]
  },
  {
   "cell_type": "markdown",
   "metadata": {},
   "source": [
    "### Perform inference on test pictures"
   ]
  },
  {
   "cell_type": "code",
   "execution_count": null,
   "metadata": {},
   "outputs": [],
   "source": [
    "!rm -rf data/test_images/masks\n",
    "!mkdir data/test_images/masks"
   ]
  },
  {
   "cell_type": "code",
   "execution_count": null,
   "metadata": {},
   "outputs": [],
   "source": [
    "data_dir = pathlib.Path('.', 'data', 'test_images').resolve()\n",
    "list_ds = tf.data.Dataset.list_files(str(data_dir/'test_images/*'))"
   ]
  },
  {
   "cell_type": "code",
   "execution_count": null,
   "metadata": {},
   "outputs": [],
   "source": [
    "def read_image_inf(file_path):\n",
    "    img = tf.io.read_file(file_path)\n",
    "    img = tf.image.decode_png(img, channels = 3)\n",
    "    img = tf.image.resize(img, (TESTDATA_WIDTH, TESTDATA_HEIGHT))\n",
    "    img = tf.image.convert_image_dtype(img, tf.float32) # Cast and normalize the image to [0,1]\n",
    "    img = tf.image.per_image_standardization(img)\n",
    "    return img\n",
    "\n",
    "def infer_path(file_path):\n",
    "    img = read_image_inf(file_path)\n",
    "    img_topleft = tf.image.crop_to_bounding_box(img, 0, 0, NETWORK_WIDTH, NETWORK_HEIGHT)\n",
    "    img_topright = tf.image.crop_to_bounding_box(img, TESTDATA_WIDTH - NETWORK_WIDTH, 0, NETWORK_WIDTH, NETWORK_HEIGHT)\n",
    "    img_botleft = tf.image.crop_to_bounding_box(img, 0, TESTDATA_HEIGHT - NETWORK_HEIGHT, NETWORK_WIDTH, NETWORK_HEIGHT)\n",
    "    img_botright = tf.image.crop_to_bounding_box(img, TESTDATA_WIDTH - NETWORK_WIDTH, TESTDATA_HEIGHT - NETWORK_HEIGHT, NETWORK_WIDTH, NETWORK_HEIGHT)\n",
    "    mask_topleft = model.predict(img_topleft[tf.newaxis, ...])\n",
    "    mask_topright = model.predict(img_topright[tf.newaxis, ...])\n",
    "    mask_botleft = model.predict(img_botleft[tf.newaxis, ...])\n",
    "    mask_botright = model.predict(img_botright[tf.newaxis, ...])\n",
    "    mask_left = [tf.image.crop_to_bounding_box(mask_topleft, 0, 0, 304, 304),\n",
    "                 tf.image.crop_to_bounding_box(mask_botleft, 0, NETWORK_HEIGHT - 304, 304, 304)]\n",
    "    mask_left = tf.concat(mask_left, 2)\n",
    "    mask_right = [tf.image.crop_to_bounding_box(mask_topright, NETWORK_WIDTH - 304, 0, 304, 304),\n",
    "                 tf.image.crop_to_bounding_box(mask_botright, NETWORK_WIDTH - 304, NETWORK_HEIGHT - 304, 304, 304)]\n",
    "    mask_right = tf.concat(mask_right, 2)\n",
    "    pred_mask = tf.concat([mask_left, mask_right], 1)\n",
    "    mask = create_mask(pred_mask)\n",
    "    return img, mask\n",
    "\n",
    "def infer_and_save(file_path, displayResults=False):\n",
    "    img, mask = infer_path(file_path)\n",
    "    mask_path = tf.strings.regex_replace(file_path, \"test_images/test_images\", \"test_images/masks\")\n",
    "    mask_int = tf.cast(mask * 255, tf.uint8)\n",
    "    mask_enc = tf.image.encode_png(mask_int)\n",
    "    tf.io.write_file(mask_path, mask_enc)\n",
    "    if displayResults:\n",
    "        mask_read = read_mask(mask_path)\n",
    "        display([img, mask, mask_read])"
   ]
  },
  {
   "cell_type": "code",
   "execution_count": null,
   "metadata": {},
   "outputs": [],
   "source": [
    "for idx, file_path in enumerate(list_ds):\n",
    "    showResult = ((idx+1) % 10 == 0)\n",
    "    infer_and_save(file_path, displayResults=showResult)"
   ]
  },
  {
   "cell_type": "markdown",
   "metadata": {},
   "source": [
    "### Create submission file"
   ]
  },
  {
   "cell_type": "code",
   "execution_count": null,
   "metadata": {},
   "outputs": [],
   "source": [
    "import mask_to_submission"
   ]
  },
  {
   "cell_type": "code",
   "execution_count": null,
   "metadata": {},
   "outputs": [],
   "source": [
    "#If you changed mask_to_submission.py\n",
    "import importlib\n",
    "importlib.reload(mask_to_submission)"
   ]
  },
  {
   "cell_type": "code",
   "execution_count": null,
   "metadata": {},
   "outputs": [],
   "source": [
    "submission_filename = 'submissions/sub05_adapted_network_width.csv'\n",
    "list_m = tf.data.Dataset.list_files(str(data_dir/'masks/*'))\n",
    "posix_filenames = list(data_dir.glob('masks/*'))\n",
    "image_filenames = []\n",
    "for p in posix_filenames:\n",
    "    image_filename = str(p)\n",
    "#     print(image_filename)\n",
    "    image_filenames.append(image_filename)\n",
    "mask_to_submission.masks_to_submission(submission_filename, *image_filenames)"
   ]
  },
  {
   "cell_type": "code",
   "execution_count": null,
   "metadata": {},
   "outputs": [],
   "source": []
  }
 ],
 "metadata": {
  "kernelspec": {
   "display_name": "Python 3",
   "language": "python",
   "name": "python3"
  },
  "language_info": {
   "codemirror_mode": {
    "name": "ipython",
    "version": 3
   },
   "file_extension": ".py",
   "mimetype": "text/x-python",
   "name": "python",
   "nbconvert_exporter": "python",
   "pygments_lexer": "ipython3",
   "version": "3.6.9"
  }
 },
 "nbformat": 4,
 "nbformat_minor": 2
}
